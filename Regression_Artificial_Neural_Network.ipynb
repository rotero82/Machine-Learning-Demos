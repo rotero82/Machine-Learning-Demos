{
  "nbformat": 4,
  "nbformat_minor": 0,
  "metadata": {
    "colab": {
      "provenance": [],
      "include_colab_link": true
    },
    "kernelspec": {
      "name": "python3",
      "display_name": "Python 3"
    }
  },
  "cells": [
    {
      "cell_type": "markdown",
      "metadata": {
        "id": "view-in-github",
        "colab_type": "text"
      },
      "source": [
        "<a href=\"https://colab.research.google.com/github/rotero82/Machine-Learning-Demos/blob/main/Regression_Artificial_Neural_Network.ipynb\" target=\"_parent\"><img src=\"https://colab.research.google.com/assets/colab-badge.svg\" alt=\"Open In Colab\"/></a>"
      ]
    },
    {
      "cell_type": "markdown",
      "metadata": {
        "id": "3cbb7fRy-eyr"
      },
      "source": [
        "# Artificial Neural Network"
      ]
    },
    {
      "cell_type": "markdown",
      "metadata": {
        "id": "8sNDnxE2-pwE"
      },
      "source": [
        "### Importing the libraries"
      ]
    },
    {
      "cell_type": "code",
      "metadata": {
        "id": "lxChR1Rk-umf"
      },
      "source": [
        "import numpy as np\n",
        "import pandas as pd\n",
        "import tensorflow as tf"
      ],
      "execution_count": 1,
      "outputs": []
    },
    {
      "cell_type": "code",
      "metadata": {
        "id": "uBTqR3nacj0e",
        "colab": {
          "base_uri": "https://localhost:8080/",
          "height": 35
        },
        "outputId": "e226dae0-b1b8-4bd6-9557-726be4ee974a"
      },
      "source": [
        "tf.__version__"
      ],
      "execution_count": 2,
      "outputs": [
        {
          "output_type": "execute_result",
          "data": {
            "text/plain": [
              "'2.15.0'"
            ],
            "application/vnd.google.colaboratory.intrinsic+json": {
              "type": "string"
            }
          },
          "metadata": {},
          "execution_count": 2
        }
      ]
    },
    {
      "cell_type": "markdown",
      "metadata": {
        "id": "AG3FQEch-yuA"
      },
      "source": [
        "## Part 1 - Data Preprocessing"
      ]
    },
    {
      "cell_type": "markdown",
      "metadata": {
        "id": "-4zq8Mza_D9O"
      },
      "source": [
        "### Importing the dataset"
      ]
    },
    {
      "cell_type": "code",
      "metadata": {
        "id": "B9CV13Co_HHM"
      },
      "source": [
        "dataset = pd.read_excel('Folds5x2_pp.xlsx')\n",
        "X = dataset.iloc[:, :-1].values\n",
        "y = dataset.iloc[:, -1].values"
      ],
      "execution_count": 3,
      "outputs": []
    },
    {
      "cell_type": "markdown",
      "metadata": {
        "id": "VC6omXel_Up0"
      },
      "source": [
        "### Splitting the dataset into the Training set and Test set"
      ]
    },
    {
      "cell_type": "code",
      "metadata": {
        "id": "L5edeb2r_agx"
      },
      "source": [
        "from sklearn.model_selection import train_test_split\n",
        "X_train, X_test, y_train, y_test = train_test_split(X, y, test_size = 0.2, random_state = 0)"
      ],
      "execution_count": 4,
      "outputs": []
    },
    {
      "cell_type": "markdown",
      "metadata": {
        "id": "_mSLlAT9_eyI"
      },
      "source": [
        "## Part 2 - Building the ANN"
      ]
    },
    {
      "cell_type": "markdown",
      "metadata": {
        "id": "CsBULd_f_wLY"
      },
      "source": [
        "### Initializing the ANN"
      ]
    },
    {
      "cell_type": "code",
      "metadata": {
        "id": "J6Hd97Ls__Nz"
      },
      "source": [
        "ann = tf.keras.models.Sequential()"
      ],
      "execution_count": 5,
      "outputs": []
    },
    {
      "cell_type": "markdown",
      "metadata": {
        "id": "iitAFJS_ABUn"
      },
      "source": [
        "### Adding the input layer and the first hidden layer"
      ]
    },
    {
      "cell_type": "code",
      "metadata": {
        "id": "ksO_Vv40AHix"
      },
      "source": [
        "ann.add(tf.keras.layers.Dense(units=6, activation='relu'))"
      ],
      "execution_count": 6,
      "outputs": []
    },
    {
      "cell_type": "markdown",
      "metadata": {
        "id": "-lb4kK_wAKbs"
      },
      "source": [
        "### Adding the second hidden layer"
      ]
    },
    {
      "cell_type": "code",
      "metadata": {
        "id": "c2357OqEAQOQ"
      },
      "source": [
        "ann.add(tf.keras.layers.Dense(units=6, activation='relu'))"
      ],
      "execution_count": 7,
      "outputs": []
    },
    {
      "cell_type": "markdown",
      "metadata": {
        "id": "jwMOmKb3AdBY"
      },
      "source": [
        "### Adding the output layer"
      ]
    },
    {
      "cell_type": "code",
      "metadata": {
        "id": "YFATpzsUAkLL"
      },
      "source": [
        "ann.add(tf.keras.layers.Dense(units=1))\n",
        "#if prediction is a binary classification then the activation function should be \"sigmoid\"\n",
        "#if prediction is a non-binary classification then the activation function should be \"softmax\"\n",
        "#if prediction is a regression then the don't use an activation function"
      ],
      "execution_count": 8,
      "outputs": []
    },
    {
      "cell_type": "markdown",
      "metadata": {
        "id": "fq7e4fF6A1yy"
      },
      "source": [
        "## Part 3 - Training the ANN"
      ]
    },
    {
      "cell_type": "markdown",
      "metadata": {
        "id": "qDeylAs2An25"
      },
      "source": [
        "### Compiling the ANN"
      ]
    },
    {
      "cell_type": "code",
      "metadata": {
        "id": "pesgbWlCAtB4"
      },
      "source": [
        "ann.compile(optimizer = 'adam', loss = 'mean_squared_error')\n",
        "\n",
        "#if prediction is a non-binary classification then the loss function should be \"cathegorical_crossentropy\"\n",
        "#if prediction is a binary classification then the loss function should be  \"binary_crossentropy\"\n",
        "#if prediction is a regression then the loss function should be \"mean_squared_error\""
      ],
      "execution_count": 9,
      "outputs": []
    },
    {
      "cell_type": "markdown",
      "metadata": {
        "id": "YjVuiybYOo7r"
      },
      "source": [
        "### Training the ANN model on the Training set"
      ]
    },
    {
      "cell_type": "code",
      "metadata": {
        "id": "c_vV-tiiA5zn",
        "colab": {
          "base_uri": "https://localhost:8080/"
        },
        "outputId": "01db1937-8e0c-4057-e4e8-1ed14814dfcf"
      },
      "source": [
        "ann.fit(X_train, y_train, batch_size = 32, epochs = 100)"
      ],
      "execution_count": 10,
      "outputs": [
        {
          "output_type": "stream",
          "name": "stdout",
          "text": [
            "Epoch 1/100\n",
            "240/240 [==============================] - 1s 2ms/step - loss: 225607.0938\n",
            "Epoch 2/100\n",
            "240/240 [==============================] - 0s 2ms/step - loss: 23045.5957\n",
            "Epoch 3/100\n",
            "240/240 [==============================] - 0s 2ms/step - loss: 265.0465\n",
            "Epoch 4/100\n",
            "240/240 [==============================] - 0s 2ms/step - loss: 230.4306\n",
            "Epoch 5/100\n",
            "240/240 [==============================] - 0s 2ms/step - loss: 219.3143\n",
            "Epoch 6/100\n",
            "240/240 [==============================] - 0s 2ms/step - loss: 210.8568\n",
            "Epoch 7/100\n",
            "240/240 [==============================] - 0s 2ms/step - loss: 203.8829\n",
            "Epoch 8/100\n",
            "240/240 [==============================] - 0s 2ms/step - loss: 196.3109\n",
            "Epoch 9/100\n",
            "240/240 [==============================] - 0s 2ms/step - loss: 187.8903\n",
            "Epoch 10/100\n",
            "240/240 [==============================] - 0s 2ms/step - loss: 178.7158\n",
            "Epoch 11/100\n",
            "240/240 [==============================] - 0s 2ms/step - loss: 168.5333\n",
            "Epoch 12/100\n",
            "240/240 [==============================] - 0s 2ms/step - loss: 157.5857\n",
            "Epoch 13/100\n",
            "240/240 [==============================] - 0s 2ms/step - loss: 145.8232\n",
            "Epoch 14/100\n",
            "240/240 [==============================] - 0s 2ms/step - loss: 134.0101\n",
            "Epoch 15/100\n",
            "240/240 [==============================] - 0s 2ms/step - loss: 121.3438\n",
            "Epoch 16/100\n",
            "240/240 [==============================] - 0s 2ms/step - loss: 108.8269\n",
            "Epoch 17/100\n",
            "240/240 [==============================] - 0s 2ms/step - loss: 96.0775\n",
            "Epoch 18/100\n",
            "240/240 [==============================] - 0s 2ms/step - loss: 84.3204\n",
            "Epoch 19/100\n",
            "240/240 [==============================] - 0s 2ms/step - loss: 72.6834\n",
            "Epoch 20/100\n",
            "240/240 [==============================] - 0s 2ms/step - loss: 62.7342\n",
            "Epoch 21/100\n",
            "240/240 [==============================] - 0s 2ms/step - loss: 53.6708\n",
            "Epoch 22/100\n",
            "240/240 [==============================] - 0s 2ms/step - loss: 46.3953\n",
            "Epoch 23/100\n",
            "240/240 [==============================] - 0s 2ms/step - loss: 40.4540\n",
            "Epoch 24/100\n",
            "240/240 [==============================] - 0s 2ms/step - loss: 36.1201\n",
            "Epoch 25/100\n",
            "240/240 [==============================] - 1s 2ms/step - loss: 33.2370\n",
            "Epoch 26/100\n",
            "240/240 [==============================] - 1s 2ms/step - loss: 31.4006\n",
            "Epoch 27/100\n",
            "240/240 [==============================] - 1s 2ms/step - loss: 30.3190\n",
            "Epoch 28/100\n",
            "240/240 [==============================] - 1s 2ms/step - loss: 29.7526\n",
            "Epoch 29/100\n",
            "240/240 [==============================] - 1s 2ms/step - loss: 29.1051\n",
            "Epoch 30/100\n",
            "240/240 [==============================] - 1s 2ms/step - loss: 28.6609\n",
            "Epoch 31/100\n",
            "240/240 [==============================] - 0s 2ms/step - loss: 28.7964\n",
            "Epoch 32/100\n",
            "240/240 [==============================] - 0s 2ms/step - loss: 28.5317\n",
            "Epoch 33/100\n",
            "240/240 [==============================] - 0s 2ms/step - loss: 28.1002\n",
            "Epoch 34/100\n",
            "240/240 [==============================] - 0s 2ms/step - loss: 28.2264\n",
            "Epoch 35/100\n",
            "240/240 [==============================] - 0s 2ms/step - loss: 28.5548\n",
            "Epoch 36/100\n",
            "240/240 [==============================] - 0s 2ms/step - loss: 27.7809\n",
            "Epoch 37/100\n",
            "240/240 [==============================] - 0s 2ms/step - loss: 27.9270\n",
            "Epoch 38/100\n",
            "240/240 [==============================] - 0s 2ms/step - loss: 27.7872\n",
            "Epoch 39/100\n",
            "240/240 [==============================] - 0s 2ms/step - loss: 27.6207\n",
            "Epoch 40/100\n",
            "240/240 [==============================] - 0s 2ms/step - loss: 27.5039\n",
            "Epoch 41/100\n",
            "240/240 [==============================] - 0s 2ms/step - loss: 27.6565\n",
            "Epoch 42/100\n",
            "240/240 [==============================] - 0s 2ms/step - loss: 27.5703\n",
            "Epoch 43/100\n",
            "240/240 [==============================] - 0s 2ms/step - loss: 27.6373\n",
            "Epoch 44/100\n",
            "240/240 [==============================] - 0s 2ms/step - loss: 28.2060\n",
            "Epoch 45/100\n",
            "240/240 [==============================] - 0s 2ms/step - loss: 27.9228\n",
            "Epoch 46/100\n",
            "240/240 [==============================] - 0s 2ms/step - loss: 27.6076\n",
            "Epoch 47/100\n",
            "240/240 [==============================] - 0s 2ms/step - loss: 27.1156\n",
            "Epoch 48/100\n",
            "240/240 [==============================] - 0s 2ms/step - loss: 27.4711\n",
            "Epoch 49/100\n",
            "240/240 [==============================] - 0s 2ms/step - loss: 27.5697\n",
            "Epoch 50/100\n",
            "240/240 [==============================] - 0s 2ms/step - loss: 26.9453\n",
            "Epoch 51/100\n",
            "240/240 [==============================] - 0s 2ms/step - loss: 27.0882\n",
            "Epoch 52/100\n",
            "240/240 [==============================] - 0s 2ms/step - loss: 27.3838\n",
            "Epoch 53/100\n",
            "240/240 [==============================] - 0s 2ms/step - loss: 27.5664\n",
            "Epoch 54/100\n",
            "240/240 [==============================] - 0s 2ms/step - loss: 27.1690\n",
            "Epoch 55/100\n",
            "240/240 [==============================] - 0s 2ms/step - loss: 27.2472\n",
            "Epoch 56/100\n",
            "240/240 [==============================] - 0s 2ms/step - loss: 26.8906\n",
            "Epoch 57/100\n",
            "240/240 [==============================] - 1s 2ms/step - loss: 26.7423\n",
            "Epoch 58/100\n",
            "240/240 [==============================] - 1s 2ms/step - loss: 26.7695\n",
            "Epoch 59/100\n",
            "240/240 [==============================] - 1s 2ms/step - loss: 27.2650\n",
            "Epoch 60/100\n",
            "240/240 [==============================] - 1s 2ms/step - loss: 27.0191\n",
            "Epoch 61/100\n",
            "240/240 [==============================] - 1s 3ms/step - loss: 27.5636\n",
            "Epoch 62/100\n",
            "240/240 [==============================] - 1s 2ms/step - loss: 26.6344\n",
            "Epoch 63/100\n",
            "240/240 [==============================] - 1s 3ms/step - loss: 27.2778\n",
            "Epoch 64/100\n",
            "240/240 [==============================] - 0s 2ms/step - loss: 27.1774\n",
            "Epoch 65/100\n",
            "240/240 [==============================] - 0s 2ms/step - loss: 27.1429\n",
            "Epoch 66/100\n",
            "240/240 [==============================] - 0s 2ms/step - loss: 26.6507\n",
            "Epoch 67/100\n",
            "240/240 [==============================] - 0s 2ms/step - loss: 26.5599\n",
            "Epoch 68/100\n",
            "240/240 [==============================] - 0s 2ms/step - loss: 27.3135\n",
            "Epoch 69/100\n",
            "240/240 [==============================] - 0s 2ms/step - loss: 26.8291\n",
            "Epoch 70/100\n",
            "240/240 [==============================] - 0s 2ms/step - loss: 26.6768\n",
            "Epoch 71/100\n",
            "240/240 [==============================] - 0s 2ms/step - loss: 27.3630\n",
            "Epoch 72/100\n",
            "240/240 [==============================] - 0s 2ms/step - loss: 27.0590\n",
            "Epoch 73/100\n",
            "240/240 [==============================] - 0s 2ms/step - loss: 27.8537\n",
            "Epoch 74/100\n",
            "240/240 [==============================] - 0s 2ms/step - loss: 27.2870\n",
            "Epoch 75/100\n",
            "240/240 [==============================] - 0s 2ms/step - loss: 27.0098\n",
            "Epoch 76/100\n",
            "240/240 [==============================] - 0s 2ms/step - loss: 26.8251\n",
            "Epoch 77/100\n",
            "240/240 [==============================] - 0s 2ms/step - loss: 26.7259\n",
            "Epoch 78/100\n",
            "240/240 [==============================] - 0s 2ms/step - loss: 26.9520\n",
            "Epoch 79/100\n",
            "240/240 [==============================] - 0s 2ms/step - loss: 26.6082\n",
            "Epoch 80/100\n",
            "240/240 [==============================] - 0s 2ms/step - loss: 26.9561\n",
            "Epoch 81/100\n",
            "240/240 [==============================] - 0s 2ms/step - loss: 27.7767\n",
            "Epoch 82/100\n",
            "240/240 [==============================] - 0s 2ms/step - loss: 27.5661\n",
            "Epoch 83/100\n",
            "240/240 [==============================] - 0s 2ms/step - loss: 26.7583\n",
            "Epoch 84/100\n",
            "240/240 [==============================] - 0s 2ms/step - loss: 26.6710\n",
            "Epoch 85/100\n",
            "240/240 [==============================] - 0s 2ms/step - loss: 27.4691\n",
            "Epoch 86/100\n",
            "240/240 [==============================] - 0s 2ms/step - loss: 26.7897\n",
            "Epoch 87/100\n",
            "240/240 [==============================] - 0s 2ms/step - loss: 27.2874\n",
            "Epoch 88/100\n",
            "240/240 [==============================] - 0s 2ms/step - loss: 26.4234\n",
            "Epoch 89/100\n",
            "240/240 [==============================] - 0s 2ms/step - loss: 26.7142\n",
            "Epoch 90/100\n",
            "240/240 [==============================] - 1s 2ms/step - loss: 26.5766\n",
            "Epoch 91/100\n",
            "240/240 [==============================] - 1s 2ms/step - loss: 26.9124\n",
            "Epoch 92/100\n",
            "240/240 [==============================] - 1s 3ms/step - loss: 27.6857\n",
            "Epoch 93/100\n",
            "240/240 [==============================] - 1s 3ms/step - loss: 26.5733\n",
            "Epoch 94/100\n",
            "240/240 [==============================] - 1s 2ms/step - loss: 27.5020\n",
            "Epoch 95/100\n",
            "240/240 [==============================] - 1s 2ms/step - loss: 27.1655\n",
            "Epoch 96/100\n",
            "240/240 [==============================] - 0s 2ms/step - loss: 26.7356\n",
            "Epoch 97/100\n",
            "240/240 [==============================] - 0s 2ms/step - loss: 27.5852\n",
            "Epoch 98/100\n",
            "240/240 [==============================] - 0s 2ms/step - loss: 27.3630\n",
            "Epoch 99/100\n",
            "240/240 [==============================] - 0s 2ms/step - loss: 26.6399\n",
            "Epoch 100/100\n",
            "240/240 [==============================] - 0s 2ms/step - loss: 26.8743\n"
          ]
        },
        {
          "output_type": "execute_result",
          "data": {
            "text/plain": [
              "<keras.src.callbacks.History at 0x7b7dfdbe2380>"
            ]
          },
          "metadata": {},
          "execution_count": 10
        }
      ]
    },
    {
      "cell_type": "markdown",
      "metadata": {
        "id": "0H0zKKNEBLD5"
      },
      "source": [
        "### Predicting the results of the Test set"
      ]
    },
    {
      "cell_type": "code",
      "metadata": {
        "id": "IA0yApEmBG1X",
        "colab": {
          "base_uri": "https://localhost:8080/"
        },
        "outputId": "a837f4df-a4ca-4226-be2f-8dd3bd05c3a3"
      },
      "source": [
        "y_pred = ann.predict(X_test)\n",
        "np.set_printoptions(precision=2)\n",
        "print(np.concatenate((y_pred.reshape(len(y_pred),1), y_test.reshape(len(y_test),1)),1))"
      ],
      "execution_count": 11,
      "outputs": [
        {
          "output_type": "stream",
          "name": "stdout",
          "text": [
            "60/60 [==============================] - 0s 1ms/step\n",
            "[[431.86 431.23]\n",
            " [463.03 460.01]\n",
            " [466.57 461.14]\n",
            " ...\n",
            " [473.77 473.26]\n",
            " [440.56 438.  ]\n",
            " [459.79 463.28]]\n"
          ]
        }
      ]
    }
  ]
}